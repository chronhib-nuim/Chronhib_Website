{
 "cells": [
  {
   "cell_type": "code",
   "execution_count": 3,
   "metadata": {},
   "outputs": [],
   "source": [
    "import sqlite3"
   ]
  },
  {
   "cell_type": "code",
   "execution_count": 4,
   "metadata": {},
   "outputs": [],
   "source": [
    "db = sqlite3.connect('/Users/jitianbo/Documents/Database/Project_Website/3.sqlite3?mode=ro',uri=True)"
   ]
  },
  {
   "cell_type": "code",
   "execution_count": 5,
   "metadata": {},
   "outputs": [],
   "source": [
    "a=c.execute('PRAGMA table_info(USER)').fetchall()"
   ]
  },
  {
   "cell_type": "code",
   "execution_count": 6,
   "metadata": {},
   "outputs": [
    {
     "data": {
      "text/plain": [
       "[(0, 'userid', 'INTEGER', 1, None, 1),\n",
       " (1, 'username', 'TEXT', 1, None, 0),\n",
       " (2, 'password', 'TEXT', 1, None, 0),\n",
       " (3, 'name', 'TEXT', 1, None, 0),\n",
       " (4, 'email', 'TEXT', 1, None, 0),\n",
       " (5, 'permission', 'TEXT', 1, None, 0)]"
      ]
     },
     "execution_count": 6,
     "metadata": {},
     "output_type": "execute_result"
    }
   ],
   "source": [
    "a"
   ]
  },
  {
   "cell_type": "code",
   "execution_count": 7,
   "metadata": {},
   "outputs": [
    {
     "data": {
      "text/plain": [
       "27706"
      ]
     },
     "execution_count": 7,
     "metadata": {},
     "output_type": "execute_result"
    }
   ],
   "source": [
    "a[0][0]"
   ]
  },
  {
   "cell_type": "code",
   "execution_count": 5,
   "metadata": {},
   "outputs": [
    {
     "data": {
      "text/plain": [
       "[(0, 'ID_unique_number', 'INTEGER', 1, None, 1),\n",
       " (1, 'Latin_Text', 'TEXT', 0, None, 0),\n",
       " (2, 'Locus1', 'TEXT', 0, None, 0),\n",
       " (3, 'Locus2', 'TEXT', 0, None, 0),\n",
       " (4, 'Locus3', 'TEXT', 0, None, 0),\n",
       " (5, 'Sentence', 'TEXT', 0, None, 0),\n",
       " (6, 'SentenceID', 'TEXT', 0, None, 0),\n",
       " (7, 'Subunit', 'TEXT', 0, None, 0),\n",
       " (8, 'TextID', 'TEXT', 0, None, 0),\n",
       " (9, 'Textual_Notes', 'TEXT', 0, None, 0),\n",
       " (10, 'Translation', 'TEXT', 0, None, 0),\n",
       " (11, 'Translation_Notes', 'TEXT', 0, None, 0),\n",
       " (12, 'Variant_Readings', 'TEXT', 0, None, 0)]"
      ]
     },
     "execution_count": 5,
     "metadata": {},
     "output_type": "execute_result"
    }
   ],
   "source": [
    "x"
   ]
  },
  {
   "cell_type": "code",
   "execution_count": 6,
   "metadata": {},
   "outputs": [],
   "source": [
    "x=[i[1]for i in x]"
   ]
  },
  {
   "cell_type": "code",
   "execution_count": 9,
   "metadata": {},
   "outputs": [],
   "source": [
    "x=['\"%s\"'%(i) for i in x]"
   ]
  },
  {
   "cell_type": "code",
   "execution_count": 10,
   "metadata": {},
   "outputs": [
    {
     "data": {
      "text/plain": [
       "['\"ID_unique_number\"',\n",
       " '\"Latin_Text\"',\n",
       " '\"Locus1\"',\n",
       " '\"Locus2\"',\n",
       " '\"Locus3\"',\n",
       " '\"Sentence\"',\n",
       " '\"SentenceID\"',\n",
       " '\"Subunit\"',\n",
       " '\"TextID\"',\n",
       " '\"Textual_Notes\"',\n",
       " '\"Translation\"',\n",
       " '\"Translation_Notes\"',\n",
       " '\"Variant_Readings\"']"
      ]
     },
     "execution_count": 10,
     "metadata": {},
     "output_type": "execute_result"
    }
   ],
   "source": [
    "x"
   ]
  },
  {
   "cell_type": "code",
   "execution_count": 16,
   "metadata": {},
   "outputs": [
    {
     "data": {
      "text/plain": [
       "[(10,\n",
       "  'Latin_Text',\n",
       "  'Locus1',\n",
       "  'Locus2',\n",
       "  'Locus3',\n",
       "  'Sentence',\n",
       "  'S0001-2',\n",
       "  'Subunit',\n",
       "  '',\n",
       "  'Textual_Notes',\n",
       "  'Translation',\n",
       "  'Translation_Notes',\n",
       "  'Variant_Readings')]"
      ]
     },
     "execution_count": 16,
     "metadata": {},
     "output_type": "execute_result"
    }
   ],
   "source": [
    "c.execute('SELECT %s FROM COLLECTION limit 1 offset 9'%(','.join(x))).fetchall()"
   ]
  },
  {
   "cell_type": "code",
   "execution_count": 2,
   "metadata": {},
   "outputs": [],
   "source": [
    "import hashlib"
   ]
  },
  {
   "cell_type": "code",
   "execution_count": 5,
   "metadata": {},
   "outputs": [
    {
     "data": {
      "text/plain": [
       "'e10adc3949ba59abbe56e057f20f883e'"
      ]
     },
     "execution_count": 5,
     "metadata": {},
     "output_type": "execute_result"
    }
   ],
   "source": [
    "psd = '123456'"
   ]
  },
  {
   "cell_type": "code",
   "execution_count": 6,
   "metadata": {},
   "outputs": [
    {
     "data": {
      "text/plain": [
       "'e10adc3949ba59abbe56e057f20f883e'"
      ]
     },
     "execution_count": 6,
     "metadata": {},
     "output_type": "execute_result"
    }
   ],
   "source": [
    "str(hashlib.md5(psd.encode()).hexdigest())"
   ]
  },
  {
   "cell_type": "code",
   "execution_count": 1,
   "metadata": {},
   "outputs": [],
   "source": [
    "from flask import Flask, session\n",
    "from flask.sessions import SessionInterface\n",
    "from beaker.middleware import SessionMiddleware"
   ]
  },
  {
   "cell_type": "code",
   "execution_count": 7,
   "metadata": {},
   "outputs": [],
   "source": [
    "x=['a']"
   ]
  },
  {
   "cell_type": "code",
   "execution_count": 9,
   "metadata": {},
   "outputs": [],
   "source": [
    "a='b' in x"
   ]
  },
  {
   "cell_type": "code",
   "execution_count": 10,
   "metadata": {},
   "outputs": [
    {
     "data": {
      "text/plain": [
       "False"
      ]
     },
     "execution_count": 10,
     "metadata": {},
     "output_type": "execute_result"
    }
   ],
   "source": [
    "a"
   ]
  },
  {
   "cell_type": "code",
   "execution_count": 11,
   "metadata": {},
   "outputs": [],
   "source": [
    "a,b=(1==2,2==2)"
   ]
  },
  {
   "cell_type": "code",
   "execution_count": 12,
   "metadata": {},
   "outputs": [
    {
     "data": {
      "text/plain": [
       "False"
      ]
     },
     "execution_count": 12,
     "metadata": {},
     "output_type": "execute_result"
    }
   ],
   "source": [
    "a"
   ]
  },
  {
   "cell_type": "code",
   "execution_count": 13,
   "metadata": {},
   "outputs": [
    {
     "data": {
      "text/plain": [
       "True"
      ]
     },
     "execution_count": 13,
     "metadata": {},
     "output_type": "execute_result"
    }
   ],
   "source": [
    "b"
   ]
  },
  {
   "cell_type": "code",
   "execution_count": 14,
   "metadata": {},
   "outputs": [
    {
     "data": {
      "text/plain": [
       "False"
      ]
     },
     "execution_count": 14,
     "metadata": {},
     "output_type": "execute_result"
    }
   ],
   "source": [
    "\"a\"==True"
   ]
  },
  {
   "cell_type": "code",
   "execution_count": 15,
   "metadata": {},
   "outputs": [
    {
     "data": {
      "text/plain": [
       "False"
      ]
     },
     "execution_count": 15,
     "metadata": {},
     "output_type": "execute_result"
    }
   ],
   "source": [
    "\"\"==False"
   ]
  },
  {
   "cell_type": "code",
   "execution_count": 1,
   "metadata": {},
   "outputs": [
    {
     "data": {
      "text/plain": [
       "{'a': 4, 'b': 3}"
      ]
     },
     "execution_count": 1,
     "metadata": {},
     "output_type": "execute_result"
    }
   ],
   "source": [
    "a=[1,3,4]\n",
    "b=[\"a\",\"b\",\"a\"]\n",
    "dict(zip(b,a))"
   ]
  },
  {
   "cell_type": "code",
   "execution_count": 2,
   "metadata": {},
   "outputs": [],
   "source": [
    "x=[(30, 'Pelagius'), (31, 'natione'), (32, 'Romanus'), (33, 'sedit'), (34, 'annis'), (35, '.xi.'), (36, 'diebus'), (37, 'x.uiii.'), (38, 'Sepultus'), (39, 'est'), (40, 'in'), (41, 'basilica'), (42, 'beati'), (43, 'Petri'), (44, 'apostoli')]"
   ]
  },
  {
   "cell_type": "code",
   "execution_count": 3,
   "metadata": {},
   "outputs": [
    {
     "data": {
      "text/plain": [
       "[(30, 'Pelagius'),\n",
       " (31, 'natione'),\n",
       " (32, 'Romanus'),\n",
       " (33, 'sedit'),\n",
       " (34, 'annis'),\n",
       " (35, '.xi.'),\n",
       " (36, 'diebus'),\n",
       " (37, 'x.uiii.'),\n",
       " (38, 'Sepultus'),\n",
       " (39, 'est'),\n",
       " (40, 'in'),\n",
       " (41, 'basilica'),\n",
       " (42, 'beati'),\n",
       " (43, 'Petri'),\n",
       " (44, 'apostoli')]"
      ]
     },
     "execution_count": 3,
     "metadata": {},
     "output_type": "execute_result"
    }
   ],
   "source": [
    "x"
   ]
  },
  {
   "cell_type": "code",
   "execution_count": 7,
   "metadata": {},
   "outputs": [
    {
     "data": {
      "text/plain": [
       "{'.xi.': 35,\n",
       " 'Pelagius': 30,\n",
       " 'Petri': 43,\n",
       " 'Romanus': 32,\n",
       " 'Sepultus': 38,\n",
       " 'annis': 34,\n",
       " 'apostoli': 44,\n",
       " 'basilica': 41,\n",
       " 'beati': 42,\n",
       " 'diebus': 36,\n",
       " 'est': 39,\n",
       " 'in': 40,\n",
       " 'natione': 31,\n",
       " 'sedit': 33,\n",
       " 'x.uiii.': 37}"
      ]
     },
     "execution_count": 7,
     "metadata": {},
     "output_type": "execute_result"
    }
   ],
   "source": [
    "dict([[i[1],i[0]]for i in x])"
   ]
  },
  {
   "cell_type": "code",
   "execution_count": 1,
   "metadata": {},
   "outputs": [],
   "source": [
    "a=[['u̯', 'i̯', 'm̄', 'ḟ', '·'], \n",
    "                    ['ȩ', '⁊', 'ɫ', 'Ȩ', 'ṡ'], \n",
    "                    ['ā', 'ē', 'ī', 'ō', 'ū'], \n",
    "                    ['ä', 'ë', 'ï', 'ö', 'ü'], \n",
    "                    ['ă', 'ĕ', 'ĭ', 'ŏ', 'ŭ'], \n",
    "                    ['æ', 'Æ', 'ʒ', 'đ', 'ɔ̄'], \n",
    "                    ['φ', 'þ', 'β', '˜', 'χ'], \n",
    "                    ['γ', '∅', 'ə', 'ɛ', 'ƀ'], \n",
    "                    ['θ', 'ð', 'ɣ', 'ɸ', 'β']]"
   ]
  },
  {
   "cell_type": "code",
   "execution_count": 3,
   "metadata": {},
   "outputs": [],
   "source": [
    "b=[]\n",
    "for line in a:\n",
    "    for n in line:\n",
    "        b.append(n)"
   ]
  },
  {
   "cell_type": "code",
   "execution_count": 5,
   "metadata": {},
   "outputs": [],
   "source": [
    "import numpy as np"
   ]
  },
  {
   "cell_type": "code",
   "execution_count": 6,
   "metadata": {},
   "outputs": [],
   "source": [
    "aa=np.array(a)"
   ]
  },
  {
   "cell_type": "code",
   "execution_count": 10,
   "metadata": {},
   "outputs": [],
   "source": [
    "aa=aa.reshape(5,9)"
   ]
  },
  {
   "cell_type": "code",
   "execution_count": 12,
   "metadata": {},
   "outputs": [
    {
     "data": {
      "text/plain": [
       "[['u̯', 'i̯', 'm̄', 'ḟ', '·', 'ȩ', '⁊', 'ɫ', 'Ȩ'],\n",
       " ['ṡ', 'ā', 'ē', 'ī', 'ō', 'ū', 'ä', 'ë', 'ï'],\n",
       " ['ö', 'ü', 'ă', 'ĕ', 'ĭ', 'ŏ', 'ŭ', 'æ', 'Æ'],\n",
       " ['ʒ', 'đ', 'ɔ̄', 'φ', 'þ', 'β', '˜', 'χ', 'γ'],\n",
       " ['∅', 'ə', 'ɛ', 'ƀ', 'θ', 'ð', 'ɣ', 'ɸ', 'β']]"
      ]
     },
     "execution_count": 12,
     "metadata": {},
     "output_type": "execute_result"
    }
   ],
   "source": [
    "aa.tolist()"
   ]
  },
  {
   "cell_type": "code",
   "execution_count": 13,
   "metadata": {},
   "outputs": [
    {
     "data": {
      "text/plain": [
       "False"
      ]
     },
     "execution_count": 13,
     "metadata": {},
     "output_type": "execute_result"
    }
   ],
   "source": [
    "';'==';'"
   ]
  },
  {
   "cell_type": "code",
   "execution_count": 15,
   "metadata": {},
   "outputs": [
    {
     "name": "stdout",
     "output_type": "stream",
     "text": [
      "[1]\n"
     ]
    }
   ],
   "source": [
    "x=[1,2,3]\n",
    "try:\n",
    "    x=x[:1]\n",
    "except:\n",
    "    pass\n",
    "print(x)"
   ]
  },
  {
   "cell_type": "code",
   "execution_count": 16,
   "metadata": {},
   "outputs": [],
   "source": [
    "x=[1,2,3]"
   ]
  },
  {
   "cell_type": "code",
   "execution_count": 18,
   "metadata": {},
   "outputs": [
    {
     "data": {
      "text/plain": [
       "[1, 2, 3]"
      ]
     },
     "execution_count": 18,
     "metadata": {},
     "output_type": "execute_result"
    }
   ],
   "source": [
    "x[:1000]"
   ]
  },
  {
   "cell_type": "code",
   "execution_count": 23,
   "metadata": {},
   "outputs": [],
   "source": [
    "a=[1,2]"
   ]
  },
  {
   "cell_type": "code",
   "execution_count": 24,
   "metadata": {},
   "outputs": [
    {
     "data": {
      "text/plain": [
       "[1]"
      ]
     },
     "execution_count": 24,
     "metadata": {},
     "output_type": "execute_result"
    }
   ],
   "source": [
    "a[:1]"
   ]
  },
  {
   "cell_type": "code",
   "execution_count": 29,
   "metadata": {},
   "outputs": [
    {
     "data": {
      "text/plain": [
       "{1: 1, 2: 3}"
      ]
     },
     "execution_count": 29,
     "metadata": {},
     "output_type": "execute_result"
    }
   ],
   "source": [
    "dict(zip([1,2,3],[1,3]))"
   ]
  },
  {
   "cell_type": "code",
   "execution_count": null,
   "metadata": {},
   "outputs": [],
   "source": []
  }
 ],
 "metadata": {
  "kernelspec": {
   "display_name": "Python 3",
   "language": "python",
   "name": "python3"
  },
  "language_info": {
   "codemirror_mode": {
    "name": "ipython",
    "version": 3
   },
   "file_extension": ".py",
   "mimetype": "text/x-python",
   "name": "python",
   "nbconvert_exporter": "python",
   "pygments_lexer": "ipython3",
   "version": "3.6.4"
  }
 },
 "nbformat": 4,
 "nbformat_minor": 2
}
