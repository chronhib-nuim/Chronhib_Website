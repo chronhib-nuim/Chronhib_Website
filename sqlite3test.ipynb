{
 "cells": [
  {
   "cell_type": "code",
   "execution_count": 11,
   "metadata": {},
   "outputs": [],
   "source": [
    "import sqlite3"
   ]
  },
  {
   "cell_type": "code",
   "execution_count": 12,
   "metadata": {},
   "outputs": [],
   "source": [
    "db=sqlite3.connect('file:///Users/jitianbo/Documents/Database/Tianbo/test.sqlite3?mode=ro',uri=True)"
   ]
  },
  {
   "cell_type": "code",
   "execution_count": 25,
   "metadata": {},
   "outputs": [],
   "source": [
    "db.execute(\"select * from SENTENCES where ? = ?\",('\"Locus1\"','\\'554.01\\'',)).fetchall()"
   ]
  },
  {
   "cell_type": "code",
   "execution_count": 29,
   "metadata": {},
   "outputs": [
    {
     "data": {
      "text/plain": [
       "[(1,\n",
       "  '',\n",
       "  '554.01',\n",
       "  '',\n",
       "  '',\n",
       "  'Natiuitas Lugdag moccu Ochae.',\n",
       "  'S0001-1',\n",
       "  '',\n",
       "  '0001',\n",
       "  '',\n",
       "  'Birth of Lugaid moccu Óchae.',\n",
       "  '',\n",
       "  ''),\n",
       " (6,\n",
       "  '',\n",
       "  '554.01',\n",
       "  '',\n",
       "  '',\n",
       "  'Natiuitas Lugdag moccu Ochae.',\n",
       "  'S0001-6',\n",
       "  '',\n",
       "  '0001',\n",
       "  'Retrospective record; excluded from Collection.obit 609.02.',\n",
       "  'Birth of Lugaid moccu Óchae.',\n",
       "  '',\n",
       "  '')]"
      ]
     },
     "execution_count": 29,
     "metadata": {},
     "output_type": "execute_result"
    }
   ],
   "source": [
    "db.execute(\"select * from SENTENCES where \\\"%s\\\" = ?\"%('Locus1`'),(554.01,)).fetchall()"
   ]
  },
  {
   "cell_type": "code",
   "execution_count": 30,
   "metadata": {},
   "outputs": [
    {
     "data": {
      "text/plain": [
       "'select * from SENTENCES where \"Locus1\"'"
      ]
     },
     "execution_count": 30,
     "metadata": {},
     "output_type": "execute_result"
    }
   ],
   "source": [
    "\"select * from SENTENCES where \"+'\"'+'Locus1'+'\" %s'"
   ]
  },
  {
   "cell_type": "code",
   "execution_count": null,
   "metadata": {},
   "outputs": [],
   "source": [
    "sys.path[0]"
   ]
  },
  {
   "cell_type": "code",
   "execution_count": 2,
   "metadata": {},
   "outputs": [],
   "source": [
    "import sys,os"
   ]
  },
  {
   "cell_type": "code",
   "execution_count": 4,
   "metadata": {},
   "outputs": [
    {
     "data": {
      "text/plain": [
       "['',\n",
       " '/Users/jitianbo/Documents/pythonEnv/py3env/lib/python36.zip',\n",
       " '/Users/jitianbo/Documents/pythonEnv/py3env/lib/python3.6',\n",
       " '/Users/jitianbo/Documents/pythonEnv/py3env/lib/python3.6/lib-dynload',\n",
       " '/Library/Frameworks/Python.framework/Versions/3.6/lib/python3.6',\n",
       " '/Users/jitianbo/Documents/pythonEnv/py3env/lib/python3.6/site-packages',\n",
       " '/Users/jitianbo/Documents/pythonEnv/py3env/lib/python3.6/site-packages/IPython/extensions',\n",
       " '/Users/jitianbo/.ipython']"
      ]
     },
     "execution_count": 4,
     "metadata": {},
     "output_type": "execute_result"
    }
   ],
   "source": [
    "sys.path"
   ]
  },
  {
   "cell_type": "code",
   "execution_count": 5,
   "metadata": {},
   "outputs": [
    {
     "data": {
      "text/plain": [
       "'/Users/jitianbo/Documents/Database/Project_Website/working.sqlite3'"
      ]
     },
     "execution_count": 5,
     "metadata": {},
     "output_type": "execute_result"
    }
   ],
   "source": [
    "os.path.abspath('working.sqlite3')"
   ]
  },
  {
   "cell_type": "code",
   "execution_count": null,
   "metadata": {},
   "outputs": [],
   "source": []
  }
 ],
 "metadata": {
  "kernelspec": {
   "display_name": "Python 3",
   "language": "python",
   "name": "python3"
  },
  "language_info": {
   "codemirror_mode": {
    "name": "ipython",
    "version": 3
   },
   "file_extension": ".py",
   "mimetype": "text/x-python",
   "name": "python",
   "nbconvert_exporter": "python",
   "pygments_lexer": "ipython3",
   "version": "3.6.4"
  }
 },
 "nbformat": 4,
 "nbformat_minor": 2
}
